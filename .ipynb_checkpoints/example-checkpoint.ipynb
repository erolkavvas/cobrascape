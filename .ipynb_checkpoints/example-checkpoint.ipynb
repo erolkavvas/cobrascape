{
 "cells": [
  {
   "cell_type": "markdown",
   "metadata": {},
   "source": [
    "# cobrascape: \n",
    "### constraint-based reconstruction and analysis (COBRA) for microbial fitness landscapes"
   ]
  },
  {
   "cell_type": "markdown",
   "metadata": {},
   "source": [
    "Load input data\n",
    "- `Genetic variant matrix`\n",
    "- `Genome-scale metabolic model`"
   ]
  },
  {
   "cell_type": "code",
   "execution_count": 1,
   "metadata": {},
   "outputs": [],
   "source": [
    "from cobra.io import load_json_model\n",
    "import pandas as pd"
   ]
  },
  {
   "cell_type": "code",
   "execution_count": 2,
   "metadata": {},
   "outputs": [
    {
     "name": "stdout",
     "output_type": "stream",
     "text": [
      "input: (G)enetic variant matrix= (strains: 20, alleles: 12762)\n",
      "input: (S)toichimetric genome-scale model= (genes: 1011, reactions: 1229, metabolites: 998)\n"
     ]
    }
   ],
   "source": [
    "DATA_DIR = \"example_data/\"\n",
    "MODEL_FILE = DATA_DIR + 'iEK1011_drugTesting_media.json'\n",
    "X_ALLELES_FILE = DATA_DIR + 'X_ALLELES_FILE.csv'  \n",
    "\n",
    "X_strains_alleles = pd.read_csv(X_ALLELES_FILE, index_col = 0)\n",
    "# only look at first 20 strains for example\n",
    "X_strains_alleles = X_strains_alleles.iloc[:20]\n",
    "print(\"input: (G)enetic variant matrix= (strains: %d, alleles: %d)\" % (X_strains_alleles.shape[0], X_strains_alleles.shape[1]))\n",
    "\n",
    "COBRA_MODEL = load_json_model(MODEL_FILE)\n",
    "print(\"input: (S)toichimetric genome-scale model= (genes: %d, reactions: %d, metabolites: %d)\" % (len(COBRA_MODEL.genes), \n",
    "    len(COBRA_MODEL.reactions), len(COBRA_MODEL.metabolites)))"
   ]
  },
  {
   "cell_type": "markdown",
   "metadata": {},
   "source": [
    "Create cobrascape object of data"
   ]
  },
  {
   "cell_type": "code",
   "execution_count": 3,
   "metadata": {},
   "outputs": [],
   "source": [
    "import cobrascape.species as cs"
   ]
  },
  {
   "cell_type": "code",
   "execution_count": 4,
   "metadata": {},
   "outputs": [
    {
     "name": "stdout",
     "output_type": "stream",
     "text": [
      "# alleles: 12762 -> removing alleles not in GEM -> # alleles after: 3310\n"
     ]
    },
    {
     "name": "stderr",
     "output_type": "stream",
     "text": [
      "100%|██████████| 20/20 [00:00<00:00, 29.21it/s]\n",
      "100%|██████████| 20/20 [00:04<00:00,  4.82it/s]\n"
     ]
    }
   ],
   "source": [
    "### Create Species object\n",
    "SPECIES_MODEL = cs.Species(\"species_obj\")\n",
    "COBRA_MODEL.solver = \"glpk\"\n",
    "SPECIES_MODEL.base_cobra_model = COBRA_MODEL\n",
    "SPECIES_MODEL.load_from_matrix(X_strains_alleles, filter_model_genes=True, allele_gene_sep=\"_\")\n",
    "for allele in SPECIES_MODEL.alleles:\n",
    "    allele.cobra_gene = allele.id.split(\"_\")[0]\n",
    "SPECIES_MODEL.update_strains_cobra_model() # This creates a unique GEM for each strain"
   ]
  },
  {
   "cell_type": "markdown",
   "metadata": {},
   "source": [
    "There are 3310 alleles in the data that can be modeled with enzymatic flux in COBRA."
   ]
  },
  {
   "cell_type": "code",
   "execution_count": 5,
   "metadata": {},
   "outputs": [
    {
     "data": {
      "text/html": [
       "\n",
       "        <table>\n",
       "            <tr>\n",
       "                <td><strong>Name</strong></td>\n",
       "                <td>species_obj</td>\n",
       "            </tr><tr>\n",
       "                <td><strong>Memory address</strong></td>\n",
       "                <td>0x013214316a0</td>\n",
       "            </tr><tr>\n",
       "                <td><strong>Number of alleles</strong></td>\n",
       "                <td>3310</td>\n",
       "            </tr><tr>\n",
       "                <td><strong>Number of strains</strong></td>\n",
       "                <td>20</td>\n",
       "            </tr><tr>\n",
       "                <td><strong>base cobra model</strong></td>\n",
       "                <td>iEK1011</td>\n",
       "            </tr>\n",
       "          </table>"
      ],
      "text/plain": [
       "<Species species_obj at 0x13214316a0>"
      ]
     },
     "execution_count": 5,
     "metadata": {},
     "output_type": "execute_result"
    }
   ],
   "source": [
    "SPECIES_MODEL"
   ]
  },
  {
   "cell_type": "code",
   "execution_count": 7,
   "metadata": {},
   "outputs": [
    {
     "name": "stdout",
     "output_type": "stream",
     "text": [
      "Rv2524c_1 set()\n",
      "Rv2524c_2 set()\n",
      "Rv2524c_3 set()\n",
      "Rv2524c_4 {<Strain 1262526_3 at 0x1321421f28>, <Strain 1245787_3 at 0x1321421940>, <Strain 1262525_3 at 0x1321421f60>, <Strain 1138877_3 at 0x132142b978>}\n",
      "Rv2524c_5 {<Strain 1126682_4 at 0x132142b208>, <Strain 1160714_3 at 0x132142ba20>, <Strain 1249615_4 at 0x1321421be0>, <Strain 1010835_3 at 0x1321431c50>, <Strain 1151113_3 at 0x132142b940>, <Strain 1078763_3 at 0x132142b160>, <Strain 1010834_3 at 0x1321431b70>, <Strain 1160716_3 at 0x132142bf60>, <Strain 1160715_3 at 0x132142bbe0>, <Strain 1240677_3 at 0x13214217f0>}\n",
      "Rv2524c_6 set()\n",
      "Rv2524c_7 set()\n"
     ]
    }
   ],
   "source": [
    "# Look at alleles of the gene Rv2524c and the strains they are in\n",
    "for x in SPECIES_MODEL.alleles[21:28]:\n",
    "    print(x, x.strains)"
   ]
  },
  {
   "cell_type": "code",
   "execution_count": 8,
   "metadata": {},
   "outputs": [
    {
     "data": {
      "text/plain": [
       "{<Strain 1138877_3 at 0x132142b978>,\n",
       " <Strain 1245787_3 at 0x1321421940>,\n",
       " <Strain 1262525_3 at 0x1321421f60>,\n",
       " <Strain 1262526_3 at 0x1321421f28>}"
      ]
     },
     "execution_count": 8,
     "metadata": {},
     "output_type": "execute_result"
    }
   ],
   "source": [
    "# Which strains contain allele Rv2524c_4?\n",
    "SPECIES_MODEL.alleles.get_by_id(\"Rv2524c_4\").strains"
   ]
  },
  {
   "cell_type": "code",
   "execution_count": 9,
   "metadata": {},
   "outputs": [
    {
     "data": {
      "text/plain": [
       "{'FAS240_L': [<Reaction FAS240_L at 0x1323311828>,\n",
       "  <Reaction FAS240_L at 0x13311c7518>,\n",
       "  <Reaction FAS240_L at 0x1331f73470>,\n",
       "  <Reaction FAS240_L at 0x1332632c50>],\n",
       " 'FAS100': [<Reaction FAS100 at 0x1323311668>,\n",
       "  <Reaction FAS100 at 0x13311c7358>,\n",
       "  <Reaction FAS100 at 0x1331f732b0>,\n",
       "  <Reaction FAS100 at 0x1332632a90>],\n",
       " 'FAS260': [<Reaction FAS260 at 0x1323311860>,\n",
       "  <Reaction FAS260 at 0x13311c7550>,\n",
       "  <Reaction FAS260 at 0x1331f734a8>,\n",
       "  <Reaction FAS260 at 0x1332632c88>],\n",
       " 'FAS80_L': [<Reaction FAS80_L at 0x1323311898>,\n",
       "  <Reaction FAS80_L at 0x13311c7588>,\n",
       "  <Reaction FAS80_L at 0x1331f734e0>,\n",
       "  <Reaction FAS80_L at 0x1332632cc0>],\n",
       " 'FAS120': [<Reaction FAS120 at 0x13233116a0>,\n",
       "  <Reaction FAS120 at 0x13311c7390>,\n",
       "  <Reaction FAS120 at 0x1331f732e8>,\n",
       "  <Reaction FAS120 at 0x1332632ac8>],\n",
       " 'FAS140': [<Reaction FAS140 at 0x13233116d8>,\n",
       "  <Reaction FAS140 at 0x13311c73c8>,\n",
       "  <Reaction FAS140 at 0x1331f73320>,\n",
       "  <Reaction FAS140 at 0x1332632b00>],\n",
       " 'FAS160': [<Reaction FAS160 at 0x1323311710>,\n",
       "  <Reaction FAS160 at 0x13311c7400>,\n",
       "  <Reaction FAS160 at 0x1331f73358>,\n",
       "  <Reaction FAS160 at 0x1332632b38>],\n",
       " 'FAS161': [<Reaction FAS161 at 0x1323311748>,\n",
       "  <Reaction FAS161 at 0x13311c7438>,\n",
       "  <Reaction FAS161 at 0x1331f73390>,\n",
       "  <Reaction FAS161 at 0x1332632b70>],\n",
       " 'FAS180': [<Reaction FAS180 at 0x1323311780>,\n",
       "  <Reaction FAS180 at 0x13311c7470>,\n",
       "  <Reaction FAS180 at 0x1331f733c8>,\n",
       "  <Reaction FAS180 at 0x1332632ba8>],\n",
       " 'FAS181': [<Reaction FAS181 at 0x13233117b8>,\n",
       "  <Reaction FAS181 at 0x13311c74a8>,\n",
       "  <Reaction FAS181 at 0x1331f73400>,\n",
       "  <Reaction FAS181 at 0x1332632be0>],\n",
       " 'FAS200': [<Reaction FAS200 at 0x13233117f0>,\n",
       "  <Reaction FAS200 at 0x13311c74e0>,\n",
       "  <Reaction FAS200 at 0x1331f73438>,\n",
       "  <Reaction FAS200 at 0x1332632c18>]}"
      ]
     },
     "execution_count": 9,
     "metadata": {},
     "output_type": "execute_result"
    }
   ],
   "source": [
    "# What strain-specific GEM reactions does allele Rv2524c_4 encode?\n",
    "SPECIES_MODEL.alleles.get_by_id(\"Rv2524c_4\").cobra_reactions"
   ]
  },
  {
   "cell_type": "markdown",
   "metadata": {},
   "source": [
    "### Compute population-level FBA and FVA for the 200 strains"
   ]
  },
  {
   "cell_type": "code",
   "execution_count": 10,
   "metadata": {},
   "outputs": [
    {
     "name": "stdout",
     "output_type": "stream",
     "text": [
      "CPU times: user 52 ms, sys: 41.9 ms, total: 93.9 ms\n",
      "Wall time: 521 ms\n"
     ]
    },
    {
     "data": {
      "text/plain": [
       "[('1010834_3', <Solution 0.058 at 0x1332bfb400>),\n",
       " ('1010835_3', <Solution 0.058 at 0x1332c0f5c0>),\n",
       " ('1010836_3', <Solution 0.058 at 0x1332c0f438>),\n",
       " ('1078763_3', <Solution 0.058 at 0x1332bfb5c0>),\n",
       " ('1126682_4', <Solution 0.058 at 0x1332c1def0>),\n",
       " ('1126683_4', <Solution 0.058 at 0x1332c32d30>),\n",
       " ('1126684_4', <Solution 0.058 at 0x1332c32da0>),\n",
       " ('1138877_3', <Solution 0.058 at 0x1332c8c4a8>),\n",
       " ('1151113_3', <Solution 0.058 at 0x1332c8c518>),\n",
       " ('1160714_3', <Solution 0.058 at 0x1332cad8d0>),\n",
       " ('1160715_3', <Solution 0.058 at 0x1332cceba8>),\n",
       " ('1160716_3', <Solution 0.058 at 0x1332d31710>),\n",
       " ('1200347_3', <Solution 0.058 at 0x1332d10320>),\n",
       " ('1200348_3', <Solution 0.058 at 0x1332d10390>),\n",
       " ('1240677_3', <Solution 0.058 at 0x1332d519e8>),\n",
       " ('1245275_3', <Solution 0.058 at 0x1332d74da0>),\n",
       " ('1245787_3', <Solution 0.058 at 0x1332d97160>),\n",
       " ('1249615_4', <Solution 0.058 at 0x1332db84e0>),\n",
       " ('1262525_3', <Solution 0.058 at 0x1332dd8860>),\n",
       " ('1262526_3', <Solution 0.058 at 0x1332df9be0>)]"
      ]
     },
     "execution_count": 10,
     "metadata": {},
     "output_type": "execute_result"
    }
   ],
   "source": [
    "# FBA\n",
    "%time SPECIES_MODEL.optimize_strains()\n",
    "SPECIES_MODEL.solution"
   ]
  },
  {
   "cell_type": "markdown",
   "metadata": {},
   "source": [
    "Now try without parallelization..."
   ]
  },
  {
   "cell_type": "code",
   "execution_count": 11,
   "metadata": {},
   "outputs": [
    {
     "name": "stderr",
     "output_type": "stream",
     "text": [
      "100%|██████████| 20/20 [00:01<00:00, 15.17it/s]"
     ]
    },
    {
     "name": "stdout",
     "output_type": "stream",
     "text": [
      "CPU times: user 1.34 s, sys: 21.6 ms, total: 1.36 s\n",
      "Wall time: 1.36 s\n"
     ]
    },
    {
     "name": "stderr",
     "output_type": "stream",
     "text": [
      "\n"
     ]
    },
    {
     "data": {
      "text/plain": [
       "{'1010834_3': <Solution 0.058 at 0x1332be8828>,\n",
       " '1010835_3': <Solution 0.058 at 0x1332be84a8>,\n",
       " '1010836_3': <Solution 0.058 at 0x1332be8eb8>,\n",
       " '1078763_3': <Solution 0.058 at 0x1332e7fa58>,\n",
       " '1126682_4': <Solution 0.058 at 0x1332bfb2e8>,\n",
       " '1126683_4': <Solution 0.058 at 0x1332eb04e0>,\n",
       " '1126684_4': <Solution 0.058 at 0x1332eb0630>,\n",
       " '1138877_3': <Solution 0.058 at 0x1332eb07f0>,\n",
       " '1151113_3': <Solution 0.058 at 0x1332eb0940>,\n",
       " '1160714_3': <Solution 0.058 at 0x1332eb0b00>,\n",
       " '1160715_3': <Solution 0.058 at 0x1332eb0c50>,\n",
       " '1160716_3': <Solution 0.058 at 0x1332eb0e10>,\n",
       " '1200347_3': <Solution 0.058 at 0x1332eb0f60>,\n",
       " '1200348_3': <Solution 0.058 at 0x1332bc1cf8>,\n",
       " '1240677_3': <Solution 0.058 at 0x1332ebf128>,\n",
       " '1245275_3': <Solution 0.058 at 0x1332ebf2b0>,\n",
       " '1245787_3': <Solution 0.058 at 0x1332ebf470>,\n",
       " '1249615_4': <Solution 0.058 at 0x1332ebf5c0>,\n",
       " '1262525_3': <Solution 0.058 at 0x1332ebf710>,\n",
       " '1262526_3': <Solution 0.058 at 0x1332ebf8d0>}"
      ]
     },
     "execution_count": 11,
     "metadata": {},
     "output_type": "execute_result"
    }
   ],
   "source": [
    "%time SPECIES_MODEL.optimize_strains(parallel=False)\n",
    "SPECIES_MODEL.solution"
   ]
  },
  {
   "cell_type": "markdown",
   "metadata": {},
   "source": [
    "Parallelization is significantly faster. This becomes more apparent with larger number of strains and while running popFVA"
   ]
  },
  {
   "cell_type": "code",
   "execution_count": 12,
   "metadata": {},
   "outputs": [
    {
     "name": "stdout",
     "output_type": "stream",
     "text": [
      "CPU times: user 54.1 ms, sys: 43.9 ms, total: 98 ms\n",
      "Wall time: 10.4 s\n"
     ]
    }
   ],
   "source": [
    "# FVA\n",
    "%time SPECIES_MODEL.optimize_strains(fva=True)"
   ]
  },
  {
   "cell_type": "markdown",
   "metadata": {},
   "source": [
    "### NOTE: We see no difference in strain solutions above because no allele-specific parameters have been set!\n",
    "\n",
    "To compute an allele-parameterized population, provide a mapping of allele to flux bound and then use `cs.compute_constrained_species()`\n",
    "\n",
    "### see _Metabolic Network Classifiers_ github for more details"
   ]
  },
  {
   "cell_type": "code",
   "execution_count": null,
   "metadata": {},
   "outputs": [],
   "source": []
  }
 ],
 "metadata": {
  "kernelspec": {
   "display_name": "Python 3",
   "language": "python",
   "name": "python3"
  },
  "language_info": {
   "codemirror_mode": {
    "name": "ipython",
    "version": 3
   },
   "file_extension": ".py",
   "mimetype": "text/x-python",
   "name": "python",
   "nbconvert_exporter": "python",
   "pygments_lexer": "ipython3",
   "version": "3.7.3"
  }
 },
 "nbformat": 4,
 "nbformat_minor": 2
}
